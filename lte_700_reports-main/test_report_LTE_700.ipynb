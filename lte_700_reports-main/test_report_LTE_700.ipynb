{
 "cells": [
  {
   "cell_type": "code",
   "execution_count": 5,
   "metadata": {},
   "outputs": [],
   "source": [
    "\n",
    "\n",
    "time_zone='America/Bogota'\n",
    "start_hour=6\n",
    "end_hour=24\n",
    "clickhouse_user='clickhouse_operator'\n",
    "clickhouse_pass='clickhouse_operator_password'\n",
    "clickhouse_url='clickhouse.claro-colombia.prod.ncs-americas.ch-dc-os-gsn-32.k8s.dyn.nesc.nokia.net'\n",
    "clickhouse_port=80\n",
    "presto_host='presto.claro-colombia.prod.ncs-americas.ch-dc-os-gsn-32.k8s.dyn.nesc.nokia.net'\n",
    "presto_port=80\n",
    "pm_api='performance-monitor-claro-colombia.prod.ncs-americas.ch-dc-os-gsn-32.k8s.dyn.nesc.nokia.net'\n",
    "s3_credentials = {\"bucket\":\"claro-colombia-production\",\"access_key\":\"AXCELBA2TOUO36494Q6Z\",\"secret_key\":\"POBqnYXyMWKxXJ7KjfJXWitiBJO5sDLLGNDyRw\",\"endpoint\":\"https://ch-dc-s3-gsn-33.eecloud.nsn-net.net\"}\n"
   ]
  },
  {
   "cell_type": "code",
   "execution_count": 6,
   "metadata": {},
   "outputs": [],
   "source": [
    "import xlsxwriter"
   ]
  },
  {
   "cell_type": "code",
   "execution_count": 7,
   "metadata": {},
   "outputs": [
    {
     "name": "stderr",
     "output_type": "stream",
     "text": [
      "/usr/local/lib/python3.9/site-packages/dash_auth/plotly_auth.py:16: UserWarning: \n",
      "The dash_html_components package is deprecated. Please replace\n",
      "`import dash_html_components as html` with `from dash import html`\n",
      "  import dash_html_components as html\n",
      "/usr/local/lib/python3.9/site-packages/dash_auth/plotly_auth.py:17: UserWarning: \n",
      "The dash_core_components package is deprecated. Please replace\n",
      "`import dash_core_components as dcc` with `from dash import dcc`\n",
      "  import dash_core_components as dcc\n"
     ]
    },
    {
     "name": "stdout",
     "output_type": "stream",
     "text": [
      "2022-06-30\n"
     ]
    }
   ],
   "source": [
    "\n",
    "\n",
    "import base64\n",
    "import io\n",
    "import os\n",
    "import os.path, time\n",
    "import json\n",
    "import random\n",
    "from pathlib import Path\n",
    "import prestodb\n",
    "import re\n",
    "\n",
    "from io import StringIO\n",
    "from time import sleep\n",
    "from datetime import date,timedelta, datetime\n",
    "\n",
    "from sqlalchemy import create_engine\n",
    "\n",
    "import flask\n",
    "\n",
    "from flask import request\n",
    "\n",
    "import dash\n",
    "from dash import no_update\n",
    "from dash.dependencies import Input, Output, State\n",
    "from dash import dash_table\n",
    "import dash_auth\n",
    "import dash_html_components as html\n",
    "import dash_core_components as dcc\n",
    "\n",
    "\n",
    "import pandas as pd\n",
    "import numpy as np\n",
    "import pandasql as psql\n",
    "\n",
    "import time\n",
    "import json\n",
    "\n",
    "import boto3\n",
    "\n",
    "start_time = time.time()\n",
    "#iniciar fechas\n",
    "today = date.today()\n",
    "\n",
    "end_d = today.strftime(\"%Y-%m-%d\")\n",
    "\n",
    "start_d=(today + timedelta(days = -10)).strftime(\"%Y-%m-%d\")\n",
    "\n",
    "print(end_d)\n",
    "\n",
    "\n",
    "\n",
    "\n",
    "\n",
    "#************************************************************************************************************\n",
    "\n",
    "#API Performance Monitor\n",
    "\n",
    "api_url=f\"http://{pm_api}/api/calculate_kpi\"\n",
    "\n",
    "\n",
    "#Presto Connection\n",
    "\n",
    "conn = prestodb.dbapi.connect(\n",
    "    host=presto_host,\n",
    "    port=presto_port,\n",
    "    user='admin',\n",
    "    catalog='hive',\n",
    "    schema='network_data'\n",
    ")\n",
    "\n",
    "#Clickhouse Connection\n",
    "\n",
    "# PM DATABASE\n",
    "\n",
    "#time_zone=os.getenv('time_zone', 'UTC')\n",
    "\n",
    "\n",
    "clickhouse_driver='http'\n",
    "\n",
    "\n",
    "connection_string = f'clickhouse://{clickhouse_user}:{clickhouse_pass}@{clickhouse_url}:{clickhouse_port}'\n",
    "\n",
    "conn_PM = create_engine(connection_string)\n",
    "\n",
    "\n",
    "\n",
    "\n",
    "# S3 Connection\n",
    "\n",
    "\n",
    "s3_bucket = s3_credentials[\"bucket\"]\n",
    "\n",
    "s3 = boto3.session.Session().client(\n",
    "    service_name='s3',\n",
    "    aws_access_key_id=s3_credentials[\"access_key\"],\n",
    "    aws_secret_access_key=s3_credentials[\"secret_key\"],\n",
    "    endpoint_url=s3_credentials[\"endpoint\"])\n",
    "\n",
    "\n",
    "#************************************************************************************************************\n",
    "\n",
    "\n",
    "\n",
    "\n"
   ]
  },
  {
   "cell_type": "code",
   "execution_count": 8,
   "metadata": {},
   "outputs": [],
   "source": [
    "WS='BOG.Juan 23,BOG.Juan del Rizo,BOG.Juan Rey,BOG.Juan Rey-3,BOG.Juan Rey-4,BOG.Kennedy,BOG.Kennedy-2,BOG.La Acacia,BOG.La Acacia-2,BOG.La Acacia-3,BOG.La Andrea,BOG.La Arboleda,BOG.La Arboleda-2,BOG.La Belleza,BOG.La Cabana,BOG.La Calleja,BOG.La Camelia,BOG.La Carolina,BOG.La Carolina-2,BOG.La Chucua,BOG.La Colmena,BOG.La Concepcion,BOG.La Conejera,BOG.La Esmeralda,BOG.La Esmeralda-2'"
   ]
  },
  {
   "cell_type": "code",
   "execution_count": null,
   "metadata": {},
   "outputs": [],
   "source": []
  },
  {
   "cell_type": "code",
   "execution_count": 9,
   "metadata": {},
   "outputs": [],
   "source": [
    "kpis=['LTE_5239a','LTE_1072a','LTE_5569a','LTE_753c','LTE_5218f','LTE_5116a','LTE_5003a','LTE_5118a','LTE_5017a','LTE_5123b','LTE_5043b','LTE_5058b','LTE_5240a','LTE_1078a','LTE_5114a','LTE_5289d','LTE_5292d','LTE_5212a','LTE_5213a','LTE_5427c','M8005C306','M8005C307','M8005C308','M8005C309','LTE_1339a','LTE_1067c','LTE_717b','LTE_5025h','LTE_5218g','LTE_291b','LTE_5023h','LTE_6265a','LTE_249b','LTE_250b']\n",
    "\n",
    "kpis1=kpis[:int(len(kpis)/2)]\n",
    "kpis2=kpis[int(len(kpis)/2):]"
   ]
  },
  {
   "cell_type": "code",
   "execution_count": 10,
   "metadata": {},
   "outputs": [],
   "source": [
    "start_d='2022-06-20'"
   ]
  },
  {
   "cell_type": "code",
   "execution_count": 12,
   "metadata": {},
   "outputs": [
    {
     "name": "stdout",
     "output_type": "stream",
     "text": [
      "LTE_5239a\n",
      "(2536, 3)\n",
      "LTE_1072a\n",
      "(2525, 3)\n",
      "LTE_5569a\n"
     ]
    },
    {
     "ename": "KeyboardInterrupt",
     "evalue": "",
     "output_type": "error",
     "traceback": [
      "\u001b[0;31m---------------------------------------------------------------------------\u001b[0m",
      "\u001b[0;31mKeyboardInterrupt\u001b[0m                         Traceback (most recent call last)",
      "\u001b[1;32m/root/lte_700_reports-3/test_report_LTE_700.ipynb Cell 8'\u001b[0m in \u001b[0;36m<cell line: 6>\u001b[0;34m()\u001b[0m\n\u001b[1;32m      <a href='vscode-notebook-cell://k8s-container%2Bcontext%3Dncs-americas-prod%2Bpodname%3Ddevelopment-pod-776b9b9d54-dmn5c%2Bnamespace%3Ddevelopment-pod%2Bname%3Ddevelopment-pod%2Bimage%3Dpython%253a3.9.9/root/lte_700_reports-3/test_report_LTE_700.ipynb#ch0000007vscode-remote?line=6'>7</a>\u001b[0m obj \u001b[39m=\u001b[39m {\n\u001b[1;32m      <a href='vscode-notebook-cell://k8s-container%2Bcontext%3Dncs-americas-prod%2Bpodname%3Ddevelopment-pod-776b9b9d54-dmn5c%2Bnamespace%3Ddevelopment-pod%2Bname%3Ddevelopment-pod%2Bimage%3Dpython%253a3.9.9/root/lte_700_reports-3/test_report_LTE_700.ipynb#ch0000007vscode-remote?line=7'>8</a>\u001b[0m \u001b[39m\"\u001b[39m\u001b[39mtech\u001b[39m\u001b[39m\"\u001b[39m: \u001b[39m\"\u001b[39m\u001b[39mLTE\u001b[39m\u001b[39m\"\u001b[39m,\n\u001b[1;32m      <a href='vscode-notebook-cell://k8s-container%2Bcontext%3Dncs-americas-prod%2Bpodname%3Ddevelopment-pod-776b9b9d54-dmn5c%2Bnamespace%3Ddevelopment-pod%2Bname%3Ddevelopment-pod%2Bimage%3Dpython%253a3.9.9/root/lte_700_reports-3/test_report_LTE_700.ipynb#ch0000007vscode-remote?line=8'>9</a>\u001b[0m \u001b[39m\"\u001b[39m\u001b[39mkpi_id\u001b[39m\u001b[39m\"\u001b[39m: kpi,\n\u001b[0;32m   (...)\u001b[0m\n\u001b[1;32m     <a href='vscode-notebook-cell://k8s-container%2Bcontext%3Dncs-americas-prod%2Bpodname%3Ddevelopment-pod-776b9b9d54-dmn5c%2Bnamespace%3Ddevelopment-pod%2Bname%3Ddevelopment-pod%2Bimage%3Dpython%253a3.9.9/root/lte_700_reports-3/test_report_LTE_700.ipynb#ch0000007vscode-remote?line=14'>15</a>\u001b[0m \u001b[39m\"\u001b[39m\u001b[39mtimeZone\u001b[39m\u001b[39m\"\u001b[39m: \u001b[39m\"\u001b[39m\u001b[39mAmerica/Bogota\u001b[39m\u001b[39m\"\u001b[39m,\n\u001b[1;32m     <a href='vscode-notebook-cell://k8s-container%2Bcontext%3Dncs-americas-prod%2Bpodname%3Ddevelopment-pod-776b9b9d54-dmn5c%2Bnamespace%3Ddevelopment-pod%2Bname%3Ddevelopment-pod%2Bimage%3Dpython%253a3.9.9/root/lte_700_reports-3/test_report_LTE_700.ipynb#ch0000007vscode-remote?line=15'>16</a>\u001b[0m }\n\u001b[1;32m     <a href='vscode-notebook-cell://k8s-container%2Bcontext%3Dncs-americas-prod%2Bpodname%3Ddevelopment-pod-776b9b9d54-dmn5c%2Bnamespace%3Ddevelopment-pod%2Bname%3Ddevelopment-pod%2Bimage%3Dpython%253a3.9.9/root/lte_700_reports-3/test_report_LTE_700.ipynb#ch0000007vscode-remote?line=17'>18</a>\u001b[0m \u001b[39mprint\u001b[39m(kpi)\n\u001b[0;32m---> <a href='vscode-notebook-cell://k8s-container%2Bcontext%3Dncs-americas-prod%2Bpodname%3Ddevelopment-pod-776b9b9d54-dmn5c%2Bnamespace%3Ddevelopment-pod%2Bname%3Ddevelopment-pod%2Bimage%3Dpython%253a3.9.9/root/lte_700_reports-3/test_report_LTE_700.ipynb#ch0000007vscode-remote?line=19'>20</a>\u001b[0m x \u001b[39m=\u001b[39m requests\u001b[39m.\u001b[39;49mpost(api_url, json \u001b[39m=\u001b[39;49m obj)\n\u001b[1;32m     <a href='vscode-notebook-cell://k8s-container%2Bcontext%3Dncs-americas-prod%2Bpodname%3Ddevelopment-pod-776b9b9d54-dmn5c%2Bnamespace%3Ddevelopment-pod%2Bname%3Ddevelopment-pod%2Bimage%3Dpython%253a3.9.9/root/lte_700_reports-3/test_report_LTE_700.ipynb#ch0000007vscode-remote?line=20'>21</a>\u001b[0m data \u001b[39m=\u001b[39m json\u001b[39m.\u001b[39mloads(x\u001b[39m.\u001b[39mtext)\n\u001b[1;32m     <a href='vscode-notebook-cell://k8s-container%2Bcontext%3Dncs-americas-prod%2Bpodname%3Ddevelopment-pod-776b9b9d54-dmn5c%2Bnamespace%3Ddevelopment-pod%2Bname%3Ddevelopment-pod%2Bimage%3Dpython%253a3.9.9/root/lte_700_reports-3/test_report_LTE_700.ipynb#ch0000007vscode-remote?line=21'>22</a>\u001b[0m DATA_LTE \u001b[39m=\u001b[39m pd\u001b[39m.\u001b[39mDataFrame\u001b[39m.\u001b[39mfrom_dict(data)\n",
      "File \u001b[0;32m/usr/local/lib/python3.9/site-packages/requests/api.py:117\u001b[0m, in \u001b[0;36mpost\u001b[0;34m(url, data, json, **kwargs)\u001b[0m\n\u001b[1;32m    105\u001b[0m \u001b[39mdef\u001b[39;00m \u001b[39mpost\u001b[39m(url, data\u001b[39m=\u001b[39m\u001b[39mNone\u001b[39;00m, json\u001b[39m=\u001b[39m\u001b[39mNone\u001b[39;00m, \u001b[39m*\u001b[39m\u001b[39m*\u001b[39mkwargs):\n\u001b[1;32m    106\u001b[0m     \u001b[39mr\u001b[39m\u001b[39m\"\"\"Sends a POST request.\u001b[39;00m\n\u001b[1;32m    107\u001b[0m \n\u001b[1;32m    108\u001b[0m \u001b[39m    :param url: URL for the new :class:`Request` object.\u001b[39;00m\n\u001b[0;32m   (...)\u001b[0m\n\u001b[1;32m    114\u001b[0m \u001b[39m    :rtype: requests.Response\u001b[39;00m\n\u001b[1;32m    115\u001b[0m \u001b[39m    \"\"\"\u001b[39;00m\n\u001b[0;32m--> 117\u001b[0m     \u001b[39mreturn\u001b[39;00m request(\u001b[39m'\u001b[39;49m\u001b[39mpost\u001b[39;49m\u001b[39m'\u001b[39;49m, url, data\u001b[39m=\u001b[39;49mdata, json\u001b[39m=\u001b[39;49mjson, \u001b[39m*\u001b[39;49m\u001b[39m*\u001b[39;49mkwargs)\n",
      "File \u001b[0;32m/usr/local/lib/python3.9/site-packages/requests/api.py:61\u001b[0m, in \u001b[0;36mrequest\u001b[0;34m(method, url, **kwargs)\u001b[0m\n\u001b[1;32m     57\u001b[0m \u001b[39m# By using the 'with' statement we are sure the session is closed, thus we\u001b[39;00m\n\u001b[1;32m     58\u001b[0m \u001b[39m# avoid leaving sockets open which can trigger a ResourceWarning in some\u001b[39;00m\n\u001b[1;32m     59\u001b[0m \u001b[39m# cases, and look like a memory leak in others.\u001b[39;00m\n\u001b[1;32m     60\u001b[0m \u001b[39mwith\u001b[39;00m sessions\u001b[39m.\u001b[39mSession() \u001b[39mas\u001b[39;00m session:\n\u001b[0;32m---> 61\u001b[0m     \u001b[39mreturn\u001b[39;00m session\u001b[39m.\u001b[39;49mrequest(method\u001b[39m=\u001b[39;49mmethod, url\u001b[39m=\u001b[39;49murl, \u001b[39m*\u001b[39;49m\u001b[39m*\u001b[39;49mkwargs)\n",
      "File \u001b[0;32m/usr/local/lib/python3.9/site-packages/requests/sessions.py:529\u001b[0m, in \u001b[0;36mSession.request\u001b[0;34m(self, method, url, params, data, headers, cookies, files, auth, timeout, allow_redirects, proxies, hooks, stream, verify, cert, json)\u001b[0m\n\u001b[1;32m    524\u001b[0m send_kwargs \u001b[39m=\u001b[39m {\n\u001b[1;32m    525\u001b[0m     \u001b[39m'\u001b[39m\u001b[39mtimeout\u001b[39m\u001b[39m'\u001b[39m: timeout,\n\u001b[1;32m    526\u001b[0m     \u001b[39m'\u001b[39m\u001b[39mallow_redirects\u001b[39m\u001b[39m'\u001b[39m: allow_redirects,\n\u001b[1;32m    527\u001b[0m }\n\u001b[1;32m    528\u001b[0m send_kwargs\u001b[39m.\u001b[39mupdate(settings)\n\u001b[0;32m--> 529\u001b[0m resp \u001b[39m=\u001b[39m \u001b[39mself\u001b[39;49m\u001b[39m.\u001b[39;49msend(prep, \u001b[39m*\u001b[39;49m\u001b[39m*\u001b[39;49msend_kwargs)\n\u001b[1;32m    531\u001b[0m \u001b[39mreturn\u001b[39;00m resp\n",
      "File \u001b[0;32m/usr/local/lib/python3.9/site-packages/requests/sessions.py:645\u001b[0m, in \u001b[0;36mSession.send\u001b[0;34m(self, request, **kwargs)\u001b[0m\n\u001b[1;32m    642\u001b[0m start \u001b[39m=\u001b[39m preferred_clock()\n\u001b[1;32m    644\u001b[0m \u001b[39m# Send the request\u001b[39;00m\n\u001b[0;32m--> 645\u001b[0m r \u001b[39m=\u001b[39m adapter\u001b[39m.\u001b[39;49msend(request, \u001b[39m*\u001b[39;49m\u001b[39m*\u001b[39;49mkwargs)\n\u001b[1;32m    647\u001b[0m \u001b[39m# Total elapsed time of the request (approximately)\u001b[39;00m\n\u001b[1;32m    648\u001b[0m elapsed \u001b[39m=\u001b[39m preferred_clock() \u001b[39m-\u001b[39m start\n",
      "File \u001b[0;32m/usr/local/lib/python3.9/site-packages/requests/adapters.py:440\u001b[0m, in \u001b[0;36mHTTPAdapter.send\u001b[0;34m(self, request, stream, timeout, verify, cert, proxies)\u001b[0m\n\u001b[1;32m    438\u001b[0m \u001b[39mtry\u001b[39;00m:\n\u001b[1;32m    439\u001b[0m     \u001b[39mif\u001b[39;00m \u001b[39mnot\u001b[39;00m chunked:\n\u001b[0;32m--> 440\u001b[0m         resp \u001b[39m=\u001b[39m conn\u001b[39m.\u001b[39;49murlopen(\n\u001b[1;32m    441\u001b[0m             method\u001b[39m=\u001b[39;49mrequest\u001b[39m.\u001b[39;49mmethod,\n\u001b[1;32m    442\u001b[0m             url\u001b[39m=\u001b[39;49murl,\n\u001b[1;32m    443\u001b[0m             body\u001b[39m=\u001b[39;49mrequest\u001b[39m.\u001b[39;49mbody,\n\u001b[1;32m    444\u001b[0m             headers\u001b[39m=\u001b[39;49mrequest\u001b[39m.\u001b[39;49mheaders,\n\u001b[1;32m    445\u001b[0m             redirect\u001b[39m=\u001b[39;49m\u001b[39mFalse\u001b[39;49;00m,\n\u001b[1;32m    446\u001b[0m             assert_same_host\u001b[39m=\u001b[39;49m\u001b[39mFalse\u001b[39;49;00m,\n\u001b[1;32m    447\u001b[0m             preload_content\u001b[39m=\u001b[39;49m\u001b[39mFalse\u001b[39;49;00m,\n\u001b[1;32m    448\u001b[0m             decode_content\u001b[39m=\u001b[39;49m\u001b[39mFalse\u001b[39;49;00m,\n\u001b[1;32m    449\u001b[0m             retries\u001b[39m=\u001b[39;49m\u001b[39mself\u001b[39;49m\u001b[39m.\u001b[39;49mmax_retries,\n\u001b[1;32m    450\u001b[0m             timeout\u001b[39m=\u001b[39;49mtimeout\n\u001b[1;32m    451\u001b[0m         )\n\u001b[1;32m    453\u001b[0m     \u001b[39m# Send the request.\u001b[39;00m\n\u001b[1;32m    454\u001b[0m     \u001b[39melse\u001b[39;00m:\n\u001b[1;32m    455\u001b[0m         \u001b[39mif\u001b[39;00m \u001b[39mhasattr\u001b[39m(conn, \u001b[39m'\u001b[39m\u001b[39mproxy_pool\u001b[39m\u001b[39m'\u001b[39m):\n",
      "File \u001b[0;32m/usr/local/lib/python3.9/site-packages/urllib3/connectionpool.py:670\u001b[0m, in \u001b[0;36mHTTPConnectionPool.urlopen\u001b[0;34m(self, method, url, body, headers, retries, redirect, assert_same_host, timeout, pool_timeout, release_conn, chunked, body_pos, **response_kw)\u001b[0m\n\u001b[1;32m    667\u001b[0m     \u001b[39mself\u001b[39m\u001b[39m.\u001b[39m_prepare_proxy(conn)\n\u001b[1;32m    669\u001b[0m \u001b[39m# Make the request on the httplib connection object.\u001b[39;00m\n\u001b[0;32m--> 670\u001b[0m httplib_response \u001b[39m=\u001b[39m \u001b[39mself\u001b[39;49m\u001b[39m.\u001b[39;49m_make_request(\n\u001b[1;32m    671\u001b[0m     conn,\n\u001b[1;32m    672\u001b[0m     method,\n\u001b[1;32m    673\u001b[0m     url,\n\u001b[1;32m    674\u001b[0m     timeout\u001b[39m=\u001b[39;49mtimeout_obj,\n\u001b[1;32m    675\u001b[0m     body\u001b[39m=\u001b[39;49mbody,\n\u001b[1;32m    676\u001b[0m     headers\u001b[39m=\u001b[39;49mheaders,\n\u001b[1;32m    677\u001b[0m     chunked\u001b[39m=\u001b[39;49mchunked,\n\u001b[1;32m    678\u001b[0m )\n\u001b[1;32m    680\u001b[0m \u001b[39m# If we're going to release the connection in ``finally:``, then\u001b[39;00m\n\u001b[1;32m    681\u001b[0m \u001b[39m# the response doesn't need to know about the connection. Otherwise\u001b[39;00m\n\u001b[1;32m    682\u001b[0m \u001b[39m# it will also try to release it and we'll have a double-release\u001b[39;00m\n\u001b[1;32m    683\u001b[0m \u001b[39m# mess.\u001b[39;00m\n\u001b[1;32m    684\u001b[0m response_conn \u001b[39m=\u001b[39m conn \u001b[39mif\u001b[39;00m \u001b[39mnot\u001b[39;00m release_conn \u001b[39melse\u001b[39;00m \u001b[39mNone\u001b[39;00m\n",
      "File \u001b[0;32m/usr/local/lib/python3.9/site-packages/urllib3/connectionpool.py:426\u001b[0m, in \u001b[0;36mHTTPConnectionPool._make_request\u001b[0;34m(self, conn, method, url, timeout, chunked, **httplib_request_kw)\u001b[0m\n\u001b[1;32m    421\u001b[0m             httplib_response \u001b[39m=\u001b[39m conn\u001b[39m.\u001b[39mgetresponse()\n\u001b[1;32m    422\u001b[0m         \u001b[39mexcept\u001b[39;00m \u001b[39mBaseException\u001b[39;00m \u001b[39mas\u001b[39;00m e:\n\u001b[1;32m    423\u001b[0m             \u001b[39m# Remove the TypeError from the exception chain in\u001b[39;00m\n\u001b[1;32m    424\u001b[0m             \u001b[39m# Python 3 (including for exceptions like SystemExit).\u001b[39;00m\n\u001b[1;32m    425\u001b[0m             \u001b[39m# Otherwise it looks like a bug in the code.\u001b[39;00m\n\u001b[0;32m--> 426\u001b[0m             six\u001b[39m.\u001b[39;49mraise_from(e, \u001b[39mNone\u001b[39;49;00m)\n\u001b[1;32m    427\u001b[0m \u001b[39mexcept\u001b[39;00m (SocketTimeout, BaseSSLError, SocketError) \u001b[39mas\u001b[39;00m e:\n\u001b[1;32m    428\u001b[0m     \u001b[39mself\u001b[39m\u001b[39m.\u001b[39m_raise_timeout(err\u001b[39m=\u001b[39me, url\u001b[39m=\u001b[39murl, timeout_value\u001b[39m=\u001b[39mread_timeout)\n",
      "File \u001b[0;32m<string>:3\u001b[0m, in \u001b[0;36mraise_from\u001b[0;34m(value, from_value)\u001b[0m\n",
      "File \u001b[0;32m/usr/local/lib/python3.9/site-packages/urllib3/connectionpool.py:421\u001b[0m, in \u001b[0;36mHTTPConnectionPool._make_request\u001b[0;34m(self, conn, method, url, timeout, chunked, **httplib_request_kw)\u001b[0m\n\u001b[1;32m    418\u001b[0m \u001b[39mexcept\u001b[39;00m \u001b[39mTypeError\u001b[39;00m:\n\u001b[1;32m    419\u001b[0m     \u001b[39m# Python 3\u001b[39;00m\n\u001b[1;32m    420\u001b[0m     \u001b[39mtry\u001b[39;00m:\n\u001b[0;32m--> 421\u001b[0m         httplib_response \u001b[39m=\u001b[39m conn\u001b[39m.\u001b[39;49mgetresponse()\n\u001b[1;32m    422\u001b[0m     \u001b[39mexcept\u001b[39;00m \u001b[39mBaseException\u001b[39;00m \u001b[39mas\u001b[39;00m e:\n\u001b[1;32m    423\u001b[0m         \u001b[39m# Remove the TypeError from the exception chain in\u001b[39;00m\n\u001b[1;32m    424\u001b[0m         \u001b[39m# Python 3 (including for exceptions like SystemExit).\u001b[39;00m\n\u001b[1;32m    425\u001b[0m         \u001b[39m# Otherwise it looks like a bug in the code.\u001b[39;00m\n\u001b[1;32m    426\u001b[0m         six\u001b[39m.\u001b[39mraise_from(e, \u001b[39mNone\u001b[39;00m)\n",
      "File \u001b[0;32m/usr/local/lib/python3.9/http/client.py:1377\u001b[0m, in \u001b[0;36mHTTPConnection.getresponse\u001b[0;34m(self)\u001b[0m\n\u001b[1;32m   1375\u001b[0m \u001b[39mtry\u001b[39;00m:\n\u001b[1;32m   1376\u001b[0m     \u001b[39mtry\u001b[39;00m:\n\u001b[0;32m-> 1377\u001b[0m         response\u001b[39m.\u001b[39;49mbegin()\n\u001b[1;32m   1378\u001b[0m     \u001b[39mexcept\u001b[39;00m \u001b[39mConnectionError\u001b[39;00m:\n\u001b[1;32m   1379\u001b[0m         \u001b[39mself\u001b[39m\u001b[39m.\u001b[39mclose()\n",
      "File \u001b[0;32m/usr/local/lib/python3.9/http/client.py:320\u001b[0m, in \u001b[0;36mHTTPResponse.begin\u001b[0;34m(self)\u001b[0m\n\u001b[1;32m    318\u001b[0m \u001b[39m# read until we get a non-100 response\u001b[39;00m\n\u001b[1;32m    319\u001b[0m \u001b[39mwhile\u001b[39;00m \u001b[39mTrue\u001b[39;00m:\n\u001b[0;32m--> 320\u001b[0m     version, status, reason \u001b[39m=\u001b[39m \u001b[39mself\u001b[39;49m\u001b[39m.\u001b[39;49m_read_status()\n\u001b[1;32m    321\u001b[0m     \u001b[39mif\u001b[39;00m status \u001b[39m!=\u001b[39m CONTINUE:\n\u001b[1;32m    322\u001b[0m         \u001b[39mbreak\u001b[39;00m\n",
      "File \u001b[0;32m/usr/local/lib/python3.9/http/client.py:281\u001b[0m, in \u001b[0;36mHTTPResponse._read_status\u001b[0;34m(self)\u001b[0m\n\u001b[1;32m    280\u001b[0m \u001b[39mdef\u001b[39;00m \u001b[39m_read_status\u001b[39m(\u001b[39mself\u001b[39m):\n\u001b[0;32m--> 281\u001b[0m     line \u001b[39m=\u001b[39m \u001b[39mstr\u001b[39m(\u001b[39mself\u001b[39;49m\u001b[39m.\u001b[39;49mfp\u001b[39m.\u001b[39;49mreadline(_MAXLINE \u001b[39m+\u001b[39;49m \u001b[39m1\u001b[39;49m), \u001b[39m\"\u001b[39m\u001b[39miso-8859-1\u001b[39m\u001b[39m\"\u001b[39m)\n\u001b[1;32m    282\u001b[0m     \u001b[39mif\u001b[39;00m \u001b[39mlen\u001b[39m(line) \u001b[39m>\u001b[39m _MAXLINE:\n\u001b[1;32m    283\u001b[0m         \u001b[39mraise\u001b[39;00m LineTooLong(\u001b[39m\"\u001b[39m\u001b[39mstatus line\u001b[39m\u001b[39m\"\u001b[39m)\n",
      "File \u001b[0;32m/usr/local/lib/python3.9/socket.py:704\u001b[0m, in \u001b[0;36mSocketIO.readinto\u001b[0;34m(self, b)\u001b[0m\n\u001b[1;32m    702\u001b[0m \u001b[39mwhile\u001b[39;00m \u001b[39mTrue\u001b[39;00m:\n\u001b[1;32m    703\u001b[0m     \u001b[39mtry\u001b[39;00m:\n\u001b[0;32m--> 704\u001b[0m         \u001b[39mreturn\u001b[39;00m \u001b[39mself\u001b[39;49m\u001b[39m.\u001b[39;49m_sock\u001b[39m.\u001b[39;49mrecv_into(b)\n\u001b[1;32m    705\u001b[0m     \u001b[39mexcept\u001b[39;00m timeout:\n\u001b[1;32m    706\u001b[0m         \u001b[39mself\u001b[39m\u001b[39m.\u001b[39m_timeout_occurred \u001b[39m=\u001b[39m \u001b[39mTrue\u001b[39;00m\n",
      "\u001b[0;31mKeyboardInterrupt\u001b[0m: "
     ]
    }
   ],
   "source": [
    "import requests\n",
    "import json\n",
    "import pandas as pd\n",
    "import time\n",
    "\n",
    "for kpi in kpis:\n",
    "    obj = {\n",
    "    \"tech\": \"LTE\",\n",
    "    \"kpi_id\": kpi,\n",
    "    \"start_date\": start_d,\n",
    "    \"end_date\": end_d,\n",
    "    \"groupby\":\"sector_name\",\n",
    "    \"site\":\",\".join(WS.split(\",\")),\n",
    "    \"timeAgg\": 'hour',\n",
    "    \"timeZone\": \"America/Bogota\",\n",
    "    }\n",
    "\n",
    "    print(kpi)\n",
    "\n",
    "    x = requests.post(api_url, json = obj)\n",
    "    data = json.loads(x.text)\n",
    "    DATA_LTE = pd.DataFrame.from_dict(data)\n",
    "    print(DATA_LTE.shape)\n"
   ]
  },
  {
   "cell_type": "code",
   "execution_count": 8,
   "metadata": {},
   "outputs": [
    {
     "name": "stdout",
     "output_type": "stream",
     "text": [
      "Ejecutando\n",
      "Ejecutado LTE p1\n",
      "(496, 19)\n"
     ]
    }
   ],
   "source": [
    "\n",
    "\n",
    "\n",
    "print('Ejecutando')\n",
    "x = requests.post(api_url, json = obj)\n",
    "data = json.loads(x.text)\n",
    "print('Ejecutado LTE p1')\n",
    "DATA_LTE = pd.DataFrame.from_dict(data)\n",
    "print(DATA_LTE.shape)\n",
    "\n"
   ]
  },
  {
   "cell_type": "code",
   "execution_count": 9,
   "metadata": {},
   "outputs": [
    {
     "name": "stdout",
     "output_type": "stream",
     "text": [
      "{'tech': 'LTE', 'kpi_id': 'LTE_5212a,LTE_5213a,LTE_5427c,M8005C306,M8005C307,M8005C308,M8005C309,LTE_1339a,LTE_1067c,LTE_717b,LTE_5025h,LTE_5218g,LTE_291b,LTE_5023h,LTE_6265a,LTE_249b,LTE_250b', 'start_date': '2022-06-28', 'end_date': '2022-06-29', 'groupby': 'sector_name', 'site': 'BOG.Juan 23,BOG.Juan del Rizo,BOG.Juan Rey,BOG.Juan Rey-3,BOG.Juan Rey-4,BOG.Kennedy,BOG.Kennedy-2,BOG.La Acacia,BOG.La Acacia-2,BOG.La Acacia-3,BOG.La Andrea,BOG.La Arboleda,BOG.La Arboleda-2,BOG.La Belleza,BOG.La Cabana,BOG.La Calleja,BOG.La Camelia,BOG.La Carolina,BOG.La Carolina-2,BOG.La Chucua,BOG.La Colmena,BOG.La Concepcion,BOG.La Conejera,BOG.La Esmeralda,BOG.La Esmeralda-2', 'timeAgg': 'hour', 'timeZone': 'America/Bogota'}\n",
      "Ejecutando\n",
      "Ejecutado LTE p1\n",
      "(496, 19)\n"
     ]
    }
   ],
   "source": [
    "obj = {\n",
    "\"tech\": \"LTE\",\n",
    "\"kpi_id\": \",\".join(kpis2),\n",
    "\"start_date\": start_d,\n",
    "\"end_date\": end_d,\n",
    "\"groupby\":\"sector_name\",\n",
    "\"site\":\",\".join(WS.split(\",\")),\n",
    "\"timeAgg\": 'hour',\n",
    "\"timeZone\": \"America/Bogota\",\n",
    "}\n",
    "\n",
    "print(obj)\n",
    "\n",
    "\n",
    "\n",
    "print('Ejecutando')\n",
    "x = requests.post(api_url, json = obj)\n",
    "data = json.loads(x.text)\n",
    "print('Ejecutado LTE p1')\n",
    "DATA_LTE_2 = pd.DataFrame.from_dict(data)\n",
    "print(DATA_LTE_2.shape)\n",
    "\n"
   ]
  },
  {
   "cell_type": "code",
   "execution_count": 10,
   "metadata": {},
   "outputs": [],
   "source": [
    "DATA_LTE=DATA_LTE.merge(DATA_LTE_2, left_on=['Date','Cell'], right_on=['Date','Cell'])"
   ]
  },
  {
   "cell_type": "code",
   "execution_count": 11,
   "metadata": {},
   "outputs": [],
   "source": [
    "if DATA_LTE.shape[0]>0:\n",
    "\n",
    "\n",
    "    DATA_LTE['Period start time']=DATA_LTE['Date']\n",
    "    DATA_LTE['LNCEL name']=DATA_LTE['Cell']\n",
    "    DATA_LTE['LNBTS name']=DATA_LTE['Cell'].apply(lambda x: x[:x.find(\"_\")])\n",
    "    DATA_LTE['MRBTS/SBTS name']=\"MRBTS-\"+DATA_LTE['LNBTS name']\n",
    "\n",
    "    columns_report=['Period start time','MRBTS/SBTS name','LNBTS name','LNCEL name']+kpis\n",
    "\n",
    "    #Rellenar columnas faltantes\n",
    "\n",
    "    missing_col=[]\n",
    "\n",
    "    for column in columns_report:\n",
    "\n",
    "        if column not in DATA_LTE.columns:\n",
    "            missing_col.append(column)\n",
    "\n",
    "    for column in missing_col:\n",
    "        DATA_LTE[column]=np.nan\n",
    "\n"
   ]
  },
  {
   "cell_type": "code",
   "execution_count": 12,
   "metadata": {},
   "outputs": [],
   "source": [
    "DATA_LTE[columns_report].sort_values(by=['LNCEL name','Period start time']).to_excel(f'LTE_FL16A_NPO_Monitoring_V4-RSLTE-LNCEL-TEST.xlsx', \n",
    "index=False, engine=\"xlsxwriter\")\n"
   ]
  },
  {
   "cell_type": "code",
   "execution_count": 23,
   "metadata": {},
   "outputs": [],
   "source": [
    "writer = pd.ExcelWriter('LTE_FL16A_NPO_Monitoring_V4-RSLTE-LNCEL-TEST.xlsx', engine='xlsxwriter')\n",
    "DATA_LTE[columns_report].sort_values(by=['LNCEL name','Period start time']).to_excel(writer, index=False, sheet_name='data')"
   ]
  },
  {
   "cell_type": "code",
   "execution_count": 20,
   "metadata": {},
   "outputs": [],
   "source": [
    "#s3.upload_file(f'LTE_FL16A_NPO_Monitoring_V4-RSLTE-LNCEL-TEST.xlsx', 'claro-colombia-production' , f'Reports/LTE_700/LTE_FL16A_NPO_Monitoring_V4-RSLTE-LNCEL-TEST.xlsx')\n"
   ]
  },
  {
   "cell_type": "code",
   "execution_count": 21,
   "metadata": {},
   "outputs": [],
   "source": [
    "\n",
    "#import os\n",
    "#os.remove(f'LTE_FL16A_NPO_Monitoring_V4-RSLTE-LNCEL-TEST.xlsx')"
   ]
  },
  {
   "cell_type": "code",
   "execution_count": 22,
   "metadata": {},
   "outputs": [
    {
     "name": "stdout",
     "output_type": "stream",
     "text": [
      "Total Time: 1.23 minutes\n"
     ]
    }
   ],
   "source": [
    "print(f\"Total Time: {round((time.time()-start_time)/60,2)} minutes\")"
   ]
  }
 ],
 "metadata": {
  "kernelspec": {
   "display_name": "Python 3.9.9 64-bit",
   "language": "python",
   "name": "python3"
  },
  "language_info": {
   "codemirror_mode": {
    "name": "ipython",
    "version": 3
   },
   "file_extension": ".py",
   "mimetype": "text/x-python",
   "name": "python",
   "nbconvert_exporter": "python",
   "pygments_lexer": "ipython3",
   "version": "3.9.9"
  },
  "orig_nbformat": 4,
  "vscode": {
   "interpreter": {
    "hash": "949777d72b0d2535278d3dc13498b2535136f6dfe0678499012e853ee9abcab1"
   }
  }
 },
 "nbformat": 4,
 "nbformat_minor": 2
}
